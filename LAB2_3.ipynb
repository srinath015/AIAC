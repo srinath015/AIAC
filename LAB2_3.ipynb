{
  "nbformat": 4,
  "nbformat_minor": 0,
  "metadata": {
    "colab": {
      "provenance": [],
      "authorship_tag": "ABX9TyOmIQjhLH0Qsvl5uT6639bh",
      "include_colab_link": true
    },
    "kernelspec": {
      "name": "python3",
      "display_name": "Python 3"
    },
    "language_info": {
      "name": "python"
    }
  },
  "cells": [
    {
      "cell_type": "markdown",
      "metadata": {
        "id": "view-in-github",
        "colab_type": "text"
      },
      "source": [
        "<a href=\"https://colab.research.google.com/github/srinath015/AIAC/blob/main/LAB2_3.ipynb\" target=\"_parent\"><img src=\"https://colab.research.google.com/assets/colab-badge.svg\" alt=\"Open In Colab\"/></a>"
      ]
    },
    {
      "cell_type": "markdown",
      "source": [
        "Task Description#1\n",
        "● Use Google Gemini in Colab to write a function that reads a CSV file and calculates mean, min, max.\n",
        "\n",
        "Expected Output#1\n",
        "● Functional code with output and screensho"
      ],
      "metadata": {
        "id": "CTrUOoaxcM6W"
      }
    },
    {
      "cell_type": "code",
      "source": [
        "import pandas as pd\n",
        "\n",
        "def analyze_csv(file_path, column_name):\n",
        "  \"\"\"\n",
        "  Reads a CSV file, calculates mean, min, and max for a specified column.\n",
        "\n",
        "  Args:\n",
        "    file_path (str): The path to the CSV file.\n",
        "    column_name (str): The name of the column to analyze.\n",
        "\n",
        "  Returns:\n",
        "    tuple: A tuple containing the mean, minimum, and maximum values.\n",
        "           Returns None if the column is not found or the file cannot be read.\n",
        "  \"\"\"\n",
        "  try:\n",
        "    df = pd.read_csv(file_path)\n",
        "    if column_name in df.columns:\n",
        "      mean_val = df[column_name].mean()\n",
        "      min_val = df[column_name].min()\n",
        "      max_val = df[column_name].max()\n",
        "      return (mean_val, min_val, max_val)\n",
        "    else:\n",
        "      print(f\"Error: Column '{column_name}' not found in the CSV.\")\n",
        "      return None\n",
        "  except FileNotFoundError:\n",
        "    print(f\"Error: File not found at '{file_path}'.\")\n",
        "    return None\n",
        "  except Exception as e:\n",
        "    print(f\"An error occurred: {e}\")\n",
        "    return None"
      ],
      "metadata": {
        "id": "g6L-9UvjkZjm"
      },
      "execution_count": 7,
      "outputs": []
    },
    {
      "cell_type": "code",
      "source": [
        "file = '/content/LAB2_2.3.csv'\n",
        "column = 'Marks'\n",
        "results = analyze_csv(file, column)\n",
        "\n",
        "if results:\n",
        "  mean_val, min_val, max_val = results\n",
        "  print(f\"Analysis for column '{column}' in '{file}':\")\n",
        "  print(f\"Mean: {mean_val}\")\n",
        "  print(f\"Min: {min_val}\")\n",
        "  print(f\"Max: {max_val}\")"
      ],
      "metadata": {
        "colab": {
          "base_uri": "https://localhost:8080/"
        },
        "id": "uQSZZEM-lN-a",
        "outputId": "b3154757-715a-4c36-91ce-c624f0a34635"
      },
      "execution_count": 6,
      "outputs": [
        {
          "output_type": "stream",
          "name": "stdout",
          "text": [
            "Analysis for column 'Marks' in '/content/LAB2_2.3.csv':\n",
            "Mean: 24.875\n",
            "Min: 7\n",
            "Max: 48\n"
          ]
        }
      ]
    },
    {
      "cell_type": "markdown",
      "source": [
        "Task Description#2\n",
        "● Compare Gemini and Copilot outputs for a palindrome check function.\n",
        "\n",
        "Expected Output#2\n",
        "● Side-by-side comparison and observations"
      ],
      "metadata": {
        "id": "3HIWtSIQlxke"
      }
    },
    {
      "cell_type": "code",
      "source": [
        "def is_palindrome(number):\n",
        "  \"\"\"\n",
        "  Checks if a given number is a palindrome.\n",
        "\n",
        "  Args:\n",
        "    number (int): The number to check.\n",
        "\n",
        "  Returns:\n",
        "    bool: True if the number is a palindrome, False otherwise.\n",
        "  \"\"\"\n",
        "  # Convert the number to a string\n",
        "  num_str = str(number)\n",
        "  # Reverse the string\n",
        "  reversed_str = num_str[::-1]\n",
        "  # Check if the original string is equal to the reversed string\n",
        "  return num_str == reversed_str\n",
        "\n",
        "# Get input from the user\n",
        "num = int(input(\"Enter a number: \"))\n",
        "\n",
        "# Check if the number is a palindrome and print the result\n",
        "if is_palindrome(num):\n",
        "  print(f\"{num} is a palindrome.\")\n",
        "else:\n",
        "  print(f\"{num} is not a palindrome.\")"
      ],
      "metadata": {
        "id": "CWATi99_lr9f",
        "colab": {
          "base_uri": "https://localhost:8080/"
        },
        "outputId": "ed742140-07f9-4e17-d43e-fadae98d9dda"
      },
      "execution_count": 3,
      "outputs": [
        {
          "output_type": "stream",
          "name": "stdout",
          "text": [
            "Enter a number: 656\n",
            "656 is a palindrome.\n"
          ]
        }
      ]
    }
  ]
}