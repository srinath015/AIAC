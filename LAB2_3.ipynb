{
  "nbformat": 4,
  "nbformat_minor": 0,
  "metadata": {
    "colab": {
      "provenance": [],
      "authorship_tag": "ABX9TyPCLOa2QsHjsuit5+ZHWvTR",
      "include_colab_link": true
    },
    "kernelspec": {
      "name": "python3",
      "display_name": "Python 3"
    },
    "language_info": {
      "name": "python"
    }
  },
  "cells": [
    {
      "cell_type": "markdown",
      "metadata": {
        "id": "view-in-github",
        "colab_type": "text"
      },
      "source": [
        "<a href=\"https://colab.research.google.com/github/srinath015/AIAC/blob/main/LAB2_3.ipynb\" target=\"_parent\"><img src=\"https://colab.research.google.com/assets/colab-badge.svg\" alt=\"Open In Colab\"/></a>"
      ]
    },
    {
      "cell_type": "markdown",
      "source": [
        "Task Description#1\n",
        "● Use Google Gemini in Colab to write a function that reads a CSV file and calculates mean, min, max.\n",
        "\n",
        "Expected Output#1\n",
        "● Functional code with output and screensho"
      ],
      "metadata": {
        "id": "CTrUOoaxcM6W"
      }
    },
    {
      "cell_type": "code",
      "source": [
        "import pandas as pd\n",
        "\n",
        "def analyze_csv(file_path, column_name):\n",
        "  \"\"\"\n",
        "  Reads a CSV file, calculates mean, min, and max for a specified column.\n",
        "\n",
        "  Args:\n",
        "    file_path (str): The path to the CSV file.\n",
        "    column_name (str): The name of the column to analyze.\n",
        "\n",
        "  Returns:\n",
        "    tuple: A tuple containing the mean, minimum, and maximum values.\n",
        "           Returns None if the column is not found or the file cannot be read.\n",
        "  \"\"\"\n",
        "  try:\n",
        "    df = pd.read_csv(file_path)\n",
        "    if column_name in df.columns:\n",
        "      mean_val = df[column_name].mean()\n",
        "      min_val = df[column_name].min()\n",
        "      max_val = df[column_name].max()\n",
        "      return (mean_val, min_val, max_val)\n",
        "    else:\n",
        "      print(f\"Error: Column '{column_name}' not found in the CSV.\")\n",
        "      return None\n",
        "  except FileNotFoundError:\n",
        "    print(f\"Error: File not found at '{file_path}'.\")\n",
        "    return None\n",
        "  except Exception as e:\n",
        "    print(f\"An error occurred: {e}\")\n",
        "    return None"
      ],
      "metadata": {
        "id": "g6L-9UvjkZjm"
      },
      "execution_count": 12,
      "outputs": []
    },
    {
      "cell_type": "code",
      "source": [
        "file = '/content/LAB2_2.3.csv'\n",
        "column = 'Marks'\n",
        "results = analyze_csv(file, column)\n",
        "\n",
        "if results:\n",
        "  mean_val, min_val, max_val = results\n",
        "  print(f\"Analysis for column '{column}' in '{file}':\")\n",
        "  print(f\"Mean: {mean_val}\")\n",
        "  print(f\"Min: {min_val}\")\n",
        "  print(f\"Max: {max_val}\")"
      ],
      "metadata": {
        "colab": {
          "base_uri": "https://localhost:8080/"
        },
        "id": "uQSZZEM-lN-a",
        "outputId": "af116b0e-93da-4df7-bfc6-6d4b857ec6fc"
      },
      "execution_count": 13,
      "outputs": [
        {
          "output_type": "stream",
          "name": "stdout",
          "text": [
            "Analysis for column 'Marks' in '/content/LAB2_2.3.csv':\n",
            "Mean: 24.875\n",
            "Min: 7\n",
            "Max: 48\n"
          ]
        }
      ]
    },
    {
      "cell_type": "markdown",
      "source": [],
      "metadata": {
        "id": "NWXfnLJdqFKG"
      }
    },
    {
      "cell_type": "markdown",
      "source": [
        "Task Description#2\n",
        "● Compare Gemini and Copilot outputs for a palindrome check function.\n",
        "\n",
        "Expected Output#2\n",
        "● Side-by-side comparison and observations"
      ],
      "metadata": {
        "id": "3HIWtSIQlxke"
      }
    },
    {
      "cell_type": "code",
      "source": [
        "def is_palindrome(number):\n",
        "  \"\"\"\n",
        "  Checks if a given number is a palindrome.\n",
        "\n",
        "  Args:\n",
        "    number (int): The number to check.\n",
        "\n",
        "  Returns:\n",
        "    bool: True if the number is a palindrome, False otherwise.\n",
        "  \"\"\"\n",
        "  # Convert the number to a string\n",
        "  num_str = str(number)\n",
        "  # Reverse the string\n",
        "  reversed_str = num_str[::-1]\n",
        "  # Check if the original string is equal to the reversed string\n",
        "  return num_str == reversed_str\n",
        "\n",
        "# Get input from the user\n",
        "num = int(input(\"Enter a number: \"))\n",
        "\n",
        "# Check if the number is a palindrome and print the result\n",
        "if is_palindrome(num):\n",
        "  print(f\"{num} is a palindrome.\")\n",
        "else:\n",
        "  print(f\"{num} is not a palindrome.\")"
      ],
      "metadata": {
        "id": "CWATi99_lr9f",
        "colab": {
          "base_uri": "https://localhost:8080/"
        },
        "outputId": "5b45f22d-4753-42b1-d73a-ccc4c28b56b6"
      },
      "execution_count": 14,
      "outputs": [
        {
          "output_type": "stream",
          "name": "stdout",
          "text": [
            "Enter a number: 656\n",
            "656 is a palindrome.\n"
          ]
        }
      ]
    },
    {
      "cell_type": "markdown",
      "source": [
        "Task Description#3\n",
        "\n",
        "● Ask Gemini to explain a Python function (to calculate area of various shapes) line by line..\n",
        "\n",
        "Expected Output#3\n",
        "\n",
        "● Detailed explanation with code snippet"
      ],
      "metadata": {
        "id": "aQawZDMAqIu0"
      }
    },
    {
      "cell_type": "code",
      "source": [
        "import math\n",
        "\n",
        "def calculate_area(shape, **kwargs):\n",
        "  \"\"\"\n",
        "  Calculates the area of various shapes.\n",
        "\n",
        "  Args:\n",
        "    shape (str): The name of the shape ('square', 'rectangle', 'circle').\n",
        "    **kwargs: Keyword arguments for shape dimensions (side, length, width, radius).\n",
        "\n",
        "  Returns:\n",
        "    float: The calculated area, or None if the shape is not recognized or dimensions are missing.\n",
        "  \"\"\"\n",
        "  if shape.lower() == 'square':\n",
        "    side = kwargs.get('side')\n",
        "    if side is not None:\n",
        "      return side * side\n",
        "    else:\n",
        "      print(\"Error: 'side' argument is required for square.\")\n",
        "      return None\n",
        "  elif shape.lower() == 'rectangle':\n",
        "    length = kwargs.get('length')\n",
        "    width = kwargs.get('width')\n",
        "    if length is not None and width is not None:\n",
        "      return length * width\n",
        "    else:\n",
        "      print(\"Error: 'length' and 'width' arguments are required for rectangle.\")\n",
        "      return None\n",
        "  elif shape.lower() == 'circle':\n",
        "    radius = kwargs.get('radius')\n",
        "    if radius is not None:\n",
        "      return math.pi * radius**2\n",
        "    else:\n",
        "      print(\"Error: 'radius' argument is required for circle.\")\n",
        "      return None\n",
        "  else:\n",
        "    print(f\"Error: Shape '{shape}' not recognized.\")\n",
        "    return None\n",
        "\n",
        "# Example usage:\n",
        "print(\"Area of square with side 5:\", calculate_area('square', side=5))\n",
        "print(\"Area of rectangle with length 4 and width 6:\", calculate_area('rectangle', length=4, width=6))\n",
        "print(\"Area of circle with radius 3:\", calculate_area('circle', radius=3))\n",
        "print(\"Area of triangle (not supported):\", calculate_area('triangle', base=5, height=10))\n",
        "print(\"Area of square with missing side:\", calculate_area('square'))"
      ],
      "metadata": {
        "colab": {
          "base_uri": "https://localhost:8080/"
        },
        "id": "f4dmgIsTqktG",
        "outputId": "9980001b-0e88-44ea-e76f-8f5ee3a0fe22"
      },
      "execution_count": 15,
      "outputs": [
        {
          "output_type": "stream",
          "name": "stdout",
          "text": [
            "Area of square with side 5: 25\n",
            "Area of rectangle with length 4 and width 6: 24\n",
            "Area of circle with radius 3: 28.274333882308138\n",
            "Error: Shape 'triangle' not recognized.\n",
            "Area of triangle (not supported): None\n",
            "Error: 'side' argument is required for square.\n",
            "Area of square with missing side: None\n"
          ]
        }
      ]
    },
    {
      "cell_type": "markdown",
      "source": [
        "Task Description#5\n",
        "\n",
        "● Student need to write code to calculate sum of add number and even numbers in the list\n",
        "\n",
        "Expected Output#5\n",
        "\n",
        "● Refactored code written by student with improved logic"
      ],
      "metadata": {
        "id": "MR1akp2vtJJX"
      }
    },
    {
      "cell_type": "code",
      "source": [
        "def sum_odd_even(numbers):\n",
        "  \"\"\"\n",
        "  Calculates the sum of odd and even numbers in a list.\n",
        "\n",
        "  Args:\n",
        "    numbers (list): A list of numbers.\n",
        "\n",
        "  Returns:\n",
        "    tuple: A tuple containing the sum of odd numbers and the sum of even numbers.\n",
        "  \"\"\"\n",
        "  sum_even = 0\n",
        "  sum_odd = 0\n",
        "  for number in numbers:\n",
        "    if number % 2 == 0:\n",
        "      sum_even += number\n",
        "    else:\n",
        "      sum_odd += number\n",
        "  return (sum_odd, sum_even)\n",
        "\n",
        "# Example usage:\n",
        "my_list = [1, 2, 3, 4, 5, 6, 7, 8, 9, 10]\n",
        "odd_sum, even_sum = sum_odd_even(my_list)\n",
        "\n",
        "print(f\"Original list: {my_list}\")\n",
        "print(f\"Sum of odd numbers: {odd_sum}\")\n",
        "print(f\"Sum of even numbers: {even_sum}\")"
      ],
      "metadata": {
        "colab": {
          "base_uri": "https://localhost:8080/"
        },
        "id": "9TOFBszFup__",
        "outputId": "cb8e0954-dd3a-4134-8770-19d605ebae92"
      },
      "execution_count": 17,
      "outputs": [
        {
          "output_type": "stream",
          "name": "stdout",
          "text": [
            "Original list: [1, 2, 3, 4, 5, 6, 7, 8, 9, 10]\n",
            "Sum of odd numbers: 25\n",
            "Sum of even numbers: 30\n"
          ]
        }
      ]
    }
  ]
}